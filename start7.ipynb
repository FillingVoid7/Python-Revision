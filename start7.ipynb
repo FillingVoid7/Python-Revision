{
 "cells": [
  {
   "cell_type": "code",
   "execution_count": 9,
   "metadata": {},
   "outputs": [
    {
     "name": "stdout",
     "output_type": "stream",
     "text": [
      "mayank is an employee with id no: 103\n",
      "Name: mayank, ID: 103, Salary: 50000, Department: IT\n"
     ]
    }
   ],
   "source": [
    "class Person:\n",
    "    def __init__(self, name, id):\n",
    "        self.name = name\n",
    "        self.id = id\n",
    "\n",
    "    def Display(self):\n",
    "        print(f\"{self.name} is an employee with id no: {self.id}\")\n",
    "\n",
    "class Emp(Person):\n",
    "    def __init__(self, name, id, salary, department):\n",
    "        # Call the parent class constructor using super()\n",
    "        super().__init__(name, id)\n",
    "        # Add additional attributes specific to the Emp class\n",
    "        self.salary = salary\n",
    "        self.department = department\n",
    "\n",
    "    def print_details(self):\n",
    "        print(f\"Name: {self.name}, ID: {self.id}, Salary: {self.salary}, Department: {self.department}\")\n",
    "\n",
    "emp_details = Emp(\"mayank\", 103, 50000, \"IT\")\n",
    "\n",
    "emp_details.Display()          \n",
    "emp_details.print_details()      "
   ]
  },
  {
   "cell_type": "code",
   "execution_count": null,
   "metadata": {},
   "outputs": [],
   "source": []
  }
 ],
 "metadata": {
  "kernelspec": {
   "display_name": "Python 3",
   "language": "python",
   "name": "python3"
  },
  "language_info": {
   "codemirror_mode": {
    "name": "ipython",
    "version": 3
   },
   "file_extension": ".py",
   "mimetype": "text/x-python",
   "name": "python",
   "nbconvert_exporter": "python",
   "pygments_lexer": "ipython3",
   "version": "3.12.1"
  }
 },
 "nbformat": 4,
 "nbformat_minor": 2
}
