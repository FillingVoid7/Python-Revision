{
 "cells": [
  {
   "cell_type": "markdown",
   "metadata": {},
   "source": [
    "Dictionary : \n",
    "Collection of key-value pairs where each key is unique, and each key maps to a corresponding values. They are unordered, mutable, and indexed by keys and duplicates are not allowed . "
   ]
  },
  {
   "cell_type": "code",
   "execution_count": 2,
   "metadata": {},
   "outputs": [
    {
     "name": "stdout",
     "output_type": "stream",
     "text": [
      "{'name': 'John', 'age': 22, 'course': 'Computer Science'}\n",
      "John\n"
     ]
    }
   ],
   "source": [
    "# Creating a dictionary\n",
    "student = {\n",
    "    \"name\": \"John\",\n",
    "    \"age\": 22,\n",
    "    \"course\": \"Computer Science\"\n",
    "}\n",
    "print(student)\n",
    "\n",
    "#Accessing Dictionary Values\n",
    "print(student[\"name\"])"
   ]
  },
  {
   "cell_type": "markdown",
   "metadata": {},
   "source": [
    "Changing, modifying, adding "
   ]
  },
  {
   "cell_type": "code",
   "execution_count": null,
   "metadata": {},
   "outputs": [],
   "source": [
    "car =\t{\n",
    "  \"brand\": \"Ford\",\n",
    "  \"model\": \"Mustang\",\n",
    "  \"year\": 1964\n",
    "}\n",
    "car[\"year\"] = 2018\n",
    "car.update({\"year\":2000})"
   ]
  },
  {
   "cell_type": "markdown",
   "metadata": {},
   "source": [
    "removing an item :\n",
    "1.pop() method removes the item with the specified key name.\n",
    "2.popitem() method removes the last inserted item.\n",
    "3.'del' keyword removes the item with the specified key name / can also delete the directory completely. \n",
    "4.clear() method empties the dictionary."
   ]
  },
  {
   "cell_type": "code",
   "execution_count": null,
   "metadata": {},
   "outputs": [],
   "source": [
    "car =\t{\n",
    "  \"brand\": \"Ford\",\n",
    "  \"model\": \"Mustang\",\n",
    "  \"year\": 1964\n",
    "}\n",
    "car.pop(\"brand\")\n",
    "car.popitem()\n",
    "del car[\"year\"]\n",
    "del car\n",
    "car.clear()"
   ]
  },
  {
   "cell_type": "markdown",
   "metadata": {},
   "source": [
    "Dictionary Methods:\n",
    "keys(): Returns a view object containing all the keys in the dictionary.\n",
    "values(): Returns a view object containing all the values.\n",
    "items(): Returns a view object containing the dictionary’s key-value pairs as tuples\n",
    "update(): Updates the dictionary with another dictionary or key-value pairs."
   ]
  },
  {
   "cell_type": "markdown",
   "metadata": {},
   "source": [
    "Nested Dictionaries:\n",
    "Some of the values are dictionaries themselves. This is useful for representing hierarchical data."
   ]
  },
  {
   "cell_type": "code",
   "execution_count": null,
   "metadata": {},
   "outputs": [],
   "source": [
    "university = {\n",
    "    \"student1\": {\n",
    "        \"name\": \"Alice\",\n",
    "        \"age\": 21,\n",
    "        \"major\": \"Physics\"\n",
    "    },\n",
    "    \"student2\": {\n",
    "        \"name\": \"Bob\",\n",
    "        \"age\": 22,\n",
    "        \"major\": \"Mathematics\"\n",
    "    }\n",
    "}\n",
    "\n",
    "print(university[\"student1\"][\"name\"])  # Output: Alice\n"
   ]
  }
 ],
 "metadata": {
  "kernelspec": {
   "display_name": "Python 3",
   "language": "python",
   "name": "python3"
  },
  "language_info": {
   "codemirror_mode": {
    "name": "ipython",
    "version": 3
   },
   "file_extension": ".py",
   "mimetype": "text/x-python",
   "name": "python",
   "nbconvert_exporter": "python",
   "pygments_lexer": "ipython3",
   "version": "3.12.1"
  }
 },
 "nbformat": 4,
 "nbformat_minor": 2
}
