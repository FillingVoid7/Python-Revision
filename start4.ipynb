{
 "cells": [
  {
   "cell_type": "markdown",
   "metadata": {},
   "source": [
    "A set is a collection which is unordered, unchangeable*(items can be removed and added), and unindexed.\n",
    "Duplicates not allowed.\n",
    "Since sets are unordered, they do not support indexing or slicing like lists or tuples. \n",
    "Iterating over the elements of a set using a loop is the option. "
   ]
  },
  {
   "cell_type": "markdown",
   "metadata": {},
   "source": [
    "Set Operations : union, intersection, difference, and symmetric difference\n",
    "\n",
    "Union (| or .union()): returns a set containing all elements from both sets (removes duplicates).\n",
    "Intersection (& or .intersection()): returns a set containing only the elements found in both sets.\n",
    "Difference (- or .difference()): returns a set containing elements in the first set but not in the second.\n",
    "Symmetric Difference (^ or .symmetric_difference()): returns a set containing elements in either set, but not in both (exclusive OR)."
   ]
  },
  {
   "cell_type": "code",
   "execution_count": 2,
   "metadata": {},
   "outputs": [
    {
     "name": "stdout",
     "output_type": "stream",
     "text": [
      "{1, 2, 3, 4, 5}\n",
      "{3}\n",
      "{1, 2}\n",
      "{1, 2, 4, 5}\n"
     ]
    }
   ],
   "source": [
    "set1 = {1,2,3}\n",
    "set2 = {3,4,5}\n",
    "\n",
    "union_result = set1 | set2\n",
    "print(union_result)\n",
    "\n",
    "intersection_result = set1 & set2 \n",
    "print(intersection_result)\n",
    "\n",
    "difference_result = set1 - set2\n",
    "print(difference_result)\n",
    "\n",
    "symmetricDifference_result = set1 ^ set2\n",
    "print(symmetricDifference_result)\n",
    "\n"
   ]
  },
  {
   "cell_type": "markdown",
   "metadata": {},
   "source": [
    "Subset and Superset Checking:\n",
    "Subset: Check if all elements of one set are in another.\n",
    "Superset: Check if a set contains all elements of another set.\n",
    "Disjoint Sets: Check if two sets have no elements in common."
   ]
  },
  {
   "cell_type": "code",
   "execution_count": 5,
   "metadata": {},
   "outputs": [
    {
     "name": "stdout",
     "output_type": "stream",
     "text": [
      "True\n",
      "False\n",
      "False\n"
     ]
    }
   ],
   "source": [
    "seta = {1,2}\n",
    "setb = {1,2,3}\n",
    "\n",
    "print(seta.issubset(setb))\n",
    "print(seta.issuperset(setb))\n",
    "print(seta.isdisjoint(setb))"
   ]
  }
 ],
 "metadata": {
  "kernelspec": {
   "display_name": "Python 3",
   "language": "python",
   "name": "python3"
  },
  "language_info": {
   "codemirror_mode": {
    "name": "ipython",
    "version": 3
   },
   "file_extension": ".py",
   "mimetype": "text/x-python",
   "name": "python",
   "nbconvert_exporter": "python",
   "pygments_lexer": "ipython3",
   "version": "3.12.1"
  }
 },
 "nbformat": 4,
 "nbformat_minor": 2
}
