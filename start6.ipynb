{
 "cells": [
  {
   "cell_type": "markdown",
   "metadata": {},
   "source": [
    "Working with a CSV file :\n",
    " It is a type of plain text file used to represent tabular data. Each row of data is a line in the text file, and within each row, values are separated by commas (or other delimiters like semicolons or tabs). "
   ]
  },
  {
   "cell_type": "markdown",
   "metadata": {},
   "source": [
    "Reading from a csv file : \n",
    "Name, Age, City\n",
    "Alice, 30, New York\n",
    "Bob, 25, Los Angeles\n",
    "Charlie, 35, Chicago\n",
    "\n",
    "method:\n",
    "The csv.reader() object reads the CSV file.\n",
    "next(reader) reads the header row (the first row in the file).\n",
    "The for loop reads each subsequent row in the CSV file."
   ]
  },
  {
   "cell_type": "code",
   "execution_count": null,
   "metadata": {},
   "outputs": [],
   "source": [
    "import csv\n",
    "\n",
    "with open(\"data.csv\", \"r\") as file:\n",
    "    reader = csv.reader(file)  # Create a CSV reader object\n",
    "    header = next(reader)      # Read the first row as header\n",
    "    print(\"Header:\", header)   # Print the header row\n",
    "    \n",
    "    # Iterate through the rows of the file\n",
    "    for row in reader:\n",
    "        print(\"Row:\", row)\n"
   ]
  },
  {
   "cell_type": "markdown",
   "metadata": {},
   "source": [
    "Writing to a CSV file: \n",
    "methods : \n",
    "The csv.writer() object is used to write data to the file.\n",
    "The writerows() method writes all the rows (from the list data) into the CSV file.\n",
    "The newline=\"\" argument prevents extra blank lines from being written on some systems (like Windows)."
   ]
  },
  {
   "cell_type": "code",
   "execution_count": null,
   "metadata": {},
   "outputs": [],
   "source": [
    "import csv\n",
    "\n",
    "data = [\n",
    "    [\"Name\", \"Age\", \"City\"],\n",
    "    [\"Alice\", 30, \"New York\"],\n",
    "    [\"Bob\", 25, \"Los Angeles\"],\n",
    "    [\"Charlie\", 35, \"Chicago\"]\n",
    "]\n",
    "\n",
    "with open(\"output.csv\", \"w\", newline=\"\") as file:\n",
    "    writer = csv.writer(file)  # Create a CSV writer object\n",
    "    writer.writerows(data)      # Write all rows of data into the file\n",
    "\n",
    "print(\"Data written to output.csv successfully!\")\n"
   ]
  },
  {
   "cell_type": "markdown",
   "metadata": {},
   "source": [
    "With dictionaries : Working with CSV files using dictionaries can be useful to handle the data with column names (i.e., keys)."
   ]
  },
  {
   "cell_type": "code",
   "execution_count": null,
   "metadata": {},
   "outputs": [],
   "source": [
    "import csv\n",
    "\n",
    "with open(\"data.csv\", \"r\") as file:\n",
    "    reader = csv.DictReader(file)  # Create a DictReader object\n",
    "    for row in reader:\n",
    "        print(row)\n"
   ]
  },
  {
   "cell_type": "code",
   "execution_count": null,
   "metadata": {},
   "outputs": [],
   "source": [
    "import csv\n",
    "\n",
    "# Data to write to the CSV file as a list of dictionaries\n",
    "data = [\n",
    "    {\"Name\": \"Alice\", \"Age\": 30, \"City\": \"New York\"},\n",
    "    {\"Name\": \"Bob\", \"Age\": 25, \"City\": \"Los Angeles\"},\n",
    "    {\"Name\": \"Charlie\", \"Age\": 35, \"City\": \"Chicago\"}\n",
    "]\n",
    "\n",
    "# Get the fieldnames from the keys of the dictionary\n",
    "fieldnames = [\"Name\", \"Age\", \"City\"]\n",
    "\n",
    "# Open the file in write mode\n",
    "with open(\"output_dict.csv\", \"w\", newline=\"\") as file:\n",
    "    writer = csv.DictWriter(file, fieldnames=fieldnames)  # Create a DictWriter object\n",
    "    writer.writeheader()   # Write the header\n",
    "    writer.writerows(data)  # Write all data rows\n",
    "\n",
    "print(\"Data written to output_dict.csv successfully!\")\n"
   ]
  }
 ],
 "metadata": {
  "language_info": {
   "name": "python"
  }
 },
 "nbformat": 4,
 "nbformat_minor": 2
}
