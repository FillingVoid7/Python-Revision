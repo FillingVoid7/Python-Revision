{
 "cells": [
  {
   "cell_type": "code",
   "execution_count": 4,
   "metadata": {},
   "outputs": [
    {
     "name": "stdout",
     "output_type": "stream",
     "text": [
      "It's color is Black and model is X\n",
      "It's color is Red and model is Y\n"
     ]
    }
   ],
   "source": [
    "class speaker:\n",
    "    brand = \"pitbull\"\n",
    "\n",
    "    def __init__(self,color,model):\n",
    "        self.color = color \n",
    "        self.model = model \n",
    "\n",
    "    def describe_speaker(self):\n",
    "        print(f\"It's color is {self.color} and model is {self.model}\")    \n",
    "\n",
    "speaker_1 = speaker(\"Black\",\"X\")\n",
    "speaker_2 = speaker(\"Red\",\"Y\")\n",
    "\n",
    "speaker_1.describe_speaker()\n",
    "speaker_2.describe_speaker()"
   ]
  }
 ],
 "metadata": {
  "kernelspec": {
   "display_name": "Python 3",
   "language": "python",
   "name": "python3"
  },
  "language_info": {
   "codemirror_mode": {
    "name": "ipython",
    "version": 3
   },
   "file_extension": ".py",
   "mimetype": "text/x-python",
   "name": "python",
   "nbconvert_exporter": "python",
   "pygments_lexer": "ipython3",
   "version": "3.12.1"
  }
 },
 "nbformat": 4,
 "nbformat_minor": 2
}
