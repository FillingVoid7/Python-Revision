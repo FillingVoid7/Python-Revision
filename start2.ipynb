{
 "cells": [
  {
   "cell_type": "markdown",
   "metadata": {},
   "source": [
    "Tuples are immutable, ordered , heterogenous(can store elements of different DataTypes)"
   ]
  },
  {
   "cell_type": "code",
   "execution_count": 6,
   "metadata": {},
   "outputs": [
    {
     "name": "stdout",
     "output_type": "stream",
     "text": [
      "('apple', 'banana', 'gava')\n",
      "<class 'tuple'>\n"
     ]
    }
   ],
   "source": [
    "\n",
    "s = ('apple','banana','gava')\n",
    "print(s)\n",
    "p = ('apple',)\n",
    "print(type(p))"
   ]
  },
  {
   "cell_type": "markdown",
   "metadata": {},
   "source": [
    "Tuple Packing\n",
    "\n",
    "Grouping multiple values into a single tuple. It occurs automatically when values are assigned to a tuple."
   ]
  },
  {
   "cell_type": "code",
   "execution_count": 8,
   "metadata": {},
   "outputs": [
    {
     "name": "stdout",
     "output_type": "stream",
     "text": [
      "(1, 3, 'apple')\n",
      "(1, 2, 3, 4, 5)\n"
     ]
    }
   ],
   "source": [
    "packed_tuples = 1 , 3, 'apple'\n",
    "print(packed_tuples)\n",
    "\n",
    "#use case :when passing a variable number of arguments to a function.\n",
    "def process_numbers(*args):\n",
    "    print(args)\n",
    "\n",
    "numbers = process_numbers(1,2,3,4,5)    \n"
   ]
  },
  {
   "cell_type": "markdown",
   "metadata": {},
   "source": [
    "Tuples Unpacking : \n",
    " Assigning the individual elements of a tuple to separate variables. This allows you to retrieve the individual components from the tuple efficiently."
   ]
  },
  {
   "cell_type": "code",
   "execution_count": 10,
   "metadata": {},
   "outputs": [
    {
     "name": "stdout",
     "output_type": "stream",
     "text": [
      "1 2 banana\n"
     ]
    }
   ],
   "source": [
    "packed_tuple = (1,2,\"banana\")\n",
    "a,b,c = packed_tuple\n",
    "print(a,b,c)\n",
    "\n",
    "### simplifies multiple assignments :\n",
    "\n",
    "#without unpacking\n",
    "coordinates = (10,20)\n",
    "x = coordinates[0]\n",
    "y = coordinates[1]\n",
    "\n",
    "#with unpacking \n",
    "coordinates = (10,20)\n",
    "x,y = coordinates\n",
    "\n",
    "### used in function returns\n",
    "def get_person_info():\n",
    "    return \"Alice\", 30, \"Engineer\"  # Tuple is returned\n",
    "\n",
    "name, age, profession = get_person_info()  # Unpacking\n",
    "print(name, age, profession)  # Output: Alice 30 Engineer\n",
    "\n",
    "\n",
    "### values swapping\n",
    "a = 5\n",
    "b = 10\n",
    "\n",
    "# Swap using tuple unpacking\n",
    "a, b = b, a\n",
    "\n",
    "print(a, b)  # Output: 10 5\n",
    "\n",
    "\n"
   ]
  }
 ],
 "metadata": {
  "kernelspec": {
   "display_name": "Python 3",
   "language": "python",
   "name": "python3"
  },
  "language_info": {
   "codemirror_mode": {
    "name": "ipython",
    "version": 3
   },
   "file_extension": ".py",
   "mimetype": "text/x-python",
   "name": "python",
   "nbconvert_exporter": "python",
   "pygments_lexer": "ipython3",
   "version": "3.12.1"
  }
 },
 "nbformat": 4,
 "nbformat_minor": 2
}
